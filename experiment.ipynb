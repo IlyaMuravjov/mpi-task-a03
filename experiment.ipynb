{
 "cells": [
  {
   "cell_type": "code",
   "execution_count": null,
   "metadata": {},
   "outputs": [],
   "source": [
    "!echo -n \"OS: \"; cat /etc/os-release | grep PRETTY_NAME | cut -d= -f2 | tr -d '\"'\n",
    "!echo -n \"GCC Version: \"; gcc --version | head -n 1\n",
    "!echo -n \"CPU Model: \"; lscpu | grep \"Model name\" | awk -F: '{print $2}' | xargs\n",
    "!echo -n \"Logical Cores: \"; nproc\n",
    "!echo -n \"RAM: \"; free -h --si | awk '/Mem:/ {print $2}'"
   ]
  },
  {
   "cell_type": "code",
   "execution_count": null,
   "metadata": {},
   "outputs": [],
   "source": [
    "%pip install matplotlib"
   ]
  },
  {
   "cell_type": "code",
   "execution_count": null,
   "metadata": {},
   "outputs": [],
   "source": [
    "import subprocess\n",
    "import re\n",
    "import matplotlib.pyplot as plt\n",
    "import numpy as np\n",
    "import os\n",
    "import filecmp"
   ]
  },
  {
   "cell_type": "code",
   "execution_count": null,
   "metadata": {},
   "outputs": [],
   "source": [
    "subprocess.run(['make'], check=True)"
   ]
  },
  {
   "cell_type": "code",
   "execution_count": null,
   "metadata": {},
   "outputs": [],
   "source": [
    "def run_experiment(matrix_size, num_threads, seed=42, min_value=-1.0, max_value=1.0, data_dir = 'data'):\n",
    "    if not os.path.exists(data_dir):\n",
    "        os.makedirs(data_dir)\n",
    "    B_filename = os.path.join(data_dir, f'B_{matrix_size}.txt')\n",
    "    C_filename = os.path.join(data_dir, f'C_{matrix_size}.txt')\n",
    "    A_filename = os.path.join(data_dir, f'A_{matrix_size}_{num_threads}.txt')\n",
    "    \n",
    "    subprocess.run(['./save_random_matrix', B_filename, str(matrix_size), str(min_value), str(max_value), str(seed)], check=True)\n",
    "    subprocess.run(['./save_random_matrix', C_filename, str(matrix_size), str(min_value), str(max_value), str(seed+1)], check=True)\n",
    "    \n",
    "    result = subprocess.run(['./main', B_filename, C_filename, A_filename, str(num_threads)], stdout=subprocess.PIPE, text=True)\n",
    "    output = result.stdout\n",
    "    \n",
    "    match = re.search(r'Computation time: ([\\d\\.]+) seconds', output)\n",
    "    if match:\n",
    "        computation_time = float(match.group(1))\n",
    "    else:\n",
    "        raise RuntimeError(\"Failed to extract computation time\")\n",
    "    return computation_time, A_filename"
   ]
  },
  {
   "cell_type": "code",
   "execution_count": null,
   "metadata": {},
   "outputs": [
    {
     "name": "stdout",
     "output_type": "stream",
     "text": [
      "Computation time: 0.000015 seconds\n",
      "Seqential version results match manually calculated results\n"
     ]
    }
   ],
   "source": [
    "# B = {{1,2},{3,4}}\n",
    "# C = {{5,6},{7,8}}\n",
    "# M(C) = 6.5\n",
    "# D(B) = 1.25\n",
    "# A = B*C^2 + M(C)*I + I + D(B)*E = {{257.75, 291.25}, {566.25, 666.75}}\n",
    "\n",
    "subprocess.run(['./main', 'data/B_sample.txt', 'data/C_sample.txt', 'data/A_sample_actual.txt', '1'], check=True)\n",
    "if (filecmp.cmp(\"data/A_sample_actual.txt\", \"data/A_sample_expected.txt\")):\n",
    "    print(\"Seqential version results match manually calculated results\")\n",
    "else:\n",
    "    print(\"Seqential version results and manually calculated results diverged!\")"
   ]
  },
  {
   "cell_type": "code",
   "execution_count": null,
   "metadata": {},
   "outputs": [],
   "source": [
    "_, seq_output = run_experiment(matrix_size=100, num_threads=1)\n",
    "_, par_output = run_experiment(matrix_size=100, num_threads=64)\n",
    "if (filecmp.cmp(seq_output, par_output)):\n",
    "    print(\"Parallel version results match sequential version results\")\n",
    "else:\n",
    "    print(\"Parallel and sequential results diverged!\")"
   ]
  },
  {
   "cell_type": "code",
   "execution_count": null,
   "metadata": {},
   "outputs": [],
   "source": [
    "sizes = list(range(100, 3000, 200))\n",
    "num_threads = 4\n",
    "\n",
    "times_for_sizes = []\n",
    "for size in sizes:\n",
    "    time, _ = run_experiment(size, num_threads)\n",
    "    times_for_sizes.append(time)\n",
    "    print(f\"Matrix size: {size}, Time: {time:.6f} seconds\")"
   ]
  },
  {
   "cell_type": "code",
   "execution_count": null,
   "metadata": {},
   "outputs": [],
   "source": [
    "plt.figure(figsize=(10,6))\n",
    "\n",
    "plt.plot(sizes, times_for_sizes, marker='o')\n",
    "plt.title('Computation Time for N-by-N Matrices')\n",
    "plt.xlabel('N')\n",
    "plt.ylabel('Computation Time (seconds)')\n",
    "plt.grid(True)\n",
    "\n",
    "plt.show()"
   ]
  },
  {
   "cell_type": "code",
   "execution_count": null,
   "metadata": {},
   "outputs": [],
   "source": [
    "slope, _ = np.polyfit(np.log(sizes), np.log(times_for_sizes), deg=1)\n",
    "float(slope)"
   ]
  },
  {
   "cell_type": "code",
   "execution_count": null,
   "metadata": {},
   "outputs": [],
   "source": [
    "matrix_size = 2000\n",
    "max_threads = 32\n",
    "\n",
    "threads_list = list(range(1, max_threads+1))\n",
    "times_for_threads = []\n",
    "\n",
    "for num_threads in threads_list:\n",
    "    time, _ = run_experiment(matrix_size, num_threads)\n",
    "    times_for_threads.append(time)\n",
    "    print(f'Number of threads: {num_threads}, Computation time: {time:.6f} seconds')"
   ]
  },
  {
   "cell_type": "code",
   "execution_count": null,
   "metadata": {},
   "outputs": [],
   "source": [
    "base_time = times_for_threads[0]\n",
    "speedups = [base_time / t for t in times_for_threads]\n",
    "\n",
    "plt.figure(figsize=(10,6))\n",
    "plt.plot(threads_list, speedups, marker='o')\n",
    "plt.title('Speedup vs Number of Threads')\n",
    "plt.xlabel('Number of Threads')\n",
    "plt.ylabel('Speedup')\n",
    "plt.grid(True)\n",
    "plt.show()"
   ]
  }
 ],
 "metadata": {
  "kernelspec": {
   "display_name": ".venv",
   "language": "python",
   "name": "python3"
  },
  "language_info": {
   "codemirror_mode": {
    "name": "ipython",
    "version": 3
   },
   "file_extension": ".py",
   "mimetype": "text/x-python",
   "name": "python",
   "nbconvert_exporter": "python",
   "pygments_lexer": "ipython3",
   "version": "3.10.12"
  }
 },
 "nbformat": 4,
 "nbformat_minor": 2
}
