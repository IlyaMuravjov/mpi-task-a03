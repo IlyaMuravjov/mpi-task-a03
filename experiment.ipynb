{
 "cells": [
  {
   "cell_type": "markdown",
   "metadata": {},
   "source": [
    "# Отчёт по лабораторной работе\n",
    "\n",
    "Задание: A-03 (OpenMP)  \n",
    "Выполнил: Муравьев Илья Владимирович\n",
    "\n",
    "## Условие\n",
    "\n",
    "Написать программу вычисления матричного выражения:\n",
    "\n",
    "$\\mathbf{A} = \\mathbf{B}\\ \\mathbf{C}^2 + M(\\mathbf{C})\\ \\mathbf{I} + \\mathbf{I} + D(\\mathbf{B})\\ \\mathbf{E}$,\n",
    "\n",
    "где $\\mathbf{B}$, $\\mathbf{C}$ – квадратные плотные матрицы, элементы которых имеют тип double, причем элементы матрицы $\\mathbf{C}$ задаются с помощью генератора псевдослучайных чисел, $\\mathbf{I}$ – единичная матрица, $\\mathbf{E}$ – полностью заполненная матрица, все элементы которой равны единице, $M(\\mathbf{C)}$ – среднее значений элементов матрицы $\\mathbf{C}$, $D(\\mathbf{C)}$ – дисперсия элементов матрицы $\\mathbf{C}$. Распараллелить эту программу с помощью OpenMP (parallel, task). Исследовать зависимость масштабируемости параллельной версии программы от ее вычислительной трудоемкости (размера матриц).  \n",
    "Проверить корректность параллельной версии.  \n",
    "Проверка закона Амдала. Построить зависимость ускорение:число потоков для заданного примера.\n",
    "\n",
    "## Программно-аппаратная конфигурация тестового стенда"
   ]
  },
  {
   "cell_type": "code",
   "execution_count": null,
   "metadata": {},
   "outputs": [],
   "source": [
    "!echo -n \"OS: \"; cat /etc/os-release | grep PRETTY_NAME | cut -d= -f2 | tr -d '\"'\n",
    "!echo -n \"GCC Version: \"; gcc --version | head -n 1\n",
    "!echo -n \"CPU Model: \"; lscpu | grep \"Model name\" | awk -F: '{print $2}' | xargs\n",
    "!echo -n \"Logical Cores: \"; lscpu | grep \"^CPU(s):\" | awk -F: '{print $2}' | xargs\n",
    "!echo -n \"Physical Cores: \"; lscpu | grep \"^Core(s) per socket:\" | awk -F: '{print $2}' | xargs\n",
    "!echo -n \"RAM: \"; free -h --si | awk '/Mem:/ {print $2}'"
   ]
  },
  {
   "cell_type": "markdown",
   "metadata": {},
   "source": [
    "## Метод\n",
    "\n",
    "Алгоритм решения:\n",
    "\n",
    "- вычисление $M(\\mathbf{C})$;\n",
    "- вычисление $M(\\mathbf{D})$;\n",
    "- вычисление $\\mathbf{C}^2$;\n",
    "- вычисление $\\mathbf{B}\\ \\mathbf{C}^2$;\n",
    "- прибавление $1 + M(\\mathbf{C})$ к каждому элементу главной диагонали $\\mathbf{B}\\ \\mathbf{C}^2$;\n",
    "- прибавление $D(\\mathbf{B})$ к каждому элементу полученной на предыдущем шаге матрицы.\n",
    "\n",
    "Для вычисления произведения матриц используется наивный алгоритм, основанный на определении произведения матриц $(\\mathbf{A}\\ \\mathbf{B})_{i,j} = \\sum_{k=1}^n \\mathbf{A}_{i,k}\\ \\mathbf{B}^T_{j,k}$. Правый множитель транспонируется перед вычислением произведения, чтобы эффективнее использовать кэши процессора.\n",
    "\n",
    "## Реализация\n",
    "\n",
    "Решение реализовано на языке программирования C. При выполнении команды `make` собираются два исполняемых файла:\n",
    "\n",
    "- `main` – решает поставленную задачу;\n",
    "- `save_random_matrix` – генерирует случайные квадратные матрицы указанного размера.\n",
    "\n",
    "При вычислении каждой матричной операции внешний цикл распараллеливается с помощью директивы OpenMP `parallel for`.\n",
    "\n",
    "Реализация доступна в GitHub-репозитории: [https://github.com/IlyaMuravjov/openmp-task-a03](https://github.com/IlyaMuravjov/openmp-task-a03).\n",
    "\n",
    "Данный отчёт сгенерирован из файла Python Notebook: [https://github.com/IlyaMuravjov/openmp-task-a03/blob/main/experiment.ipynb](https://github.com/IlyaMuravjov/openmp-task-a03/blob/main/experiment.ipynb)."
   ]
  },
  {
   "cell_type": "markdown",
   "metadata": {},
   "source": [
    "## Эксперимент\n",
    "\n",
    "### Корректность\n",
    "\n",
    "Результат запуска скрипта проверки соответствия результатов, полученных вручную, и результатов, полученных последовательной версией, для матрицы размера $2 \\times 2$."
   ]
  },
  {
   "cell_type": "code",
   "execution_count": null,
   "metadata": {},
   "outputs": [],
   "source": [
    "%pip install matplotlib\n",
    "%pip install nbconvert\n",
    "%pip install pandas\n",
    "%pip install scipy\n",
    "%pip install tabulate"
   ]
  },
  {
   "cell_type": "code",
   "execution_count": null,
   "metadata": {},
   "outputs": [],
   "source": [
    "import subprocess\n",
    "import re\n",
    "import matplotlib.pyplot as plt\n",
    "import numpy as np\n",
    "import os\n",
    "import pandas as pd\n",
    "import filecmp\n",
    "\n",
    "from getpass import getpass\n",
    "from IPython.display import Markdown, display\n",
    "from scipy.optimize import curve_fit"
   ]
  },
  {
   "cell_type": "code",
   "execution_count": null,
   "metadata": {},
   "outputs": [],
   "source": [
    "subprocess.run(['make'], check=True)"
   ]
  },
  {
   "cell_type": "code",
   "execution_count": null,
   "metadata": {},
   "outputs": [],
   "source": [
    "# B = {{1,2},{3,4}}\n",
    "# C = {{5,6},{7,8}}\n",
    "# M(C) = 6.5\n",
    "# D(B) = 1.25\n",
    "# A = B*C^2 + M(C)*I + I + D(B)*E = {{257.75, 291.25}, {566.25, 666.75}}\n",
    "\n",
    "subprocess.run(['./main', 'data/B_sample.txt', 'data/C_sample.txt', 'data/A_sample_actual.txt', '1'], stdout=subprocess.PIPE, text=True, check=True)\n",
    "if (filecmp.cmp(\"data/A_sample_actual.txt\", \"data/A_sample_expected.txt\")):\n",
    "    print(\"Seqential version results match manually calculated results\")\n",
    "else:\n",
    "    print(\"Seqential version results and manually calculated results diverged!\")"
   ]
  },
  {
   "cell_type": "markdown",
   "metadata": {},
   "source": [
    "Результат запуска скрипта проверки соответствия результатов, полученных последовательной и параллельной версиями, для матрицы размера $3000 \\times 3000$."
   ]
  },
  {
   "cell_type": "code",
   "execution_count": null,
   "metadata": {},
   "outputs": [],
   "source": [
    "def run_experiment(matrix_size, num_threads, seed=42, min_value=-1.0, max_value=1.0, data_dir = 'data'):\n",
    "    if not os.path.exists(data_dir):\n",
    "        os.makedirs(data_dir)\n",
    "    B_filename = os.path.join(data_dir, f'B_{matrix_size}.txt')\n",
    "    C_filename = os.path.join(data_dir, f'C_{matrix_size}.txt')\n",
    "    A_filename = os.path.join(data_dir, f'A_{matrix_size}_{num_threads}.txt')\n",
    "    \n",
    "    subprocess.run(['./save_random_matrix', B_filename, str(matrix_size), str(min_value), str(max_value), str(seed)], check=True)\n",
    "    subprocess.run(['./save_random_matrix', C_filename, str(matrix_size), str(min_value), str(max_value), str(seed+1)], check=True)\n",
    "    \n",
    "    result = subprocess.run(['./main', B_filename, C_filename, A_filename, str(num_threads)], stdout=subprocess.PIPE, text=True)\n",
    "    output = result.stdout\n",
    "    \n",
    "    match = re.search(r'Computation time: ([\\d\\.]+) seconds', output)\n",
    "    if match:\n",
    "        computation_time = float(match.group(1))\n",
    "    else:\n",
    "        raise RuntimeError(\"Failed to extract computation time\")\n",
    "    return computation_time, A_filename"
   ]
  },
  {
   "cell_type": "code",
   "execution_count": null,
   "metadata": {},
   "outputs": [],
   "source": [
    "_, seq_output = run_experiment(matrix_size=3000, num_threads=1)\n",
    "_, par_output = run_experiment(matrix_size=3000, num_threads=64)\n",
    "if (filecmp.cmp(seq_output, par_output)):\n",
    "    print(\"Parallel version results match sequential version results\")\n",
    "else:\n",
    "    print(\"Parallel and sequential results diverged!\")"
   ]
  },
  {
   "cell_type": "markdown",
   "metadata": {},
   "source": [
    "### Масштабируемость\n",
    "\n",
    "Результаты запуска скрипта оценки масштабируемости параллельной версии программы от её вычислительной трудоемкости (размера матриц) для матриц размера $N \\times N$."
   ]
  },
  {
   "cell_type": "code",
   "execution_count": null,
   "metadata": {},
   "outputs": [],
   "source": [
    "sizes = list(range(2000, 7000, 600))\n",
    "num_threads = 12\n",
    "\n",
    "times_for_sizes = []\n",
    "for size in sizes:\n",
    "    time, _ = run_experiment(size, num_threads)\n",
    "    times_for_sizes.append(time)\n",
    "    print(f\"N: {size}, time: {time:.6f} seconds\")"
   ]
  },
  {
   "cell_type": "code",
   "execution_count": null,
   "metadata": {},
   "outputs": [],
   "source": [
    "display(Markdown(pd.DataFrame({\n",
    "    'N': sizes,\n",
    "    'Time (seconds)': times_for_sizes\n",
    "}).round(2).to_markdown(index=False)))"
   ]
  },
  {
   "cell_type": "code",
   "execution_count": null,
   "metadata": {},
   "outputs": [],
   "source": [
    "plt.figure(figsize=(10,6))\n",
    "\n",
    "plt.plot(sizes, times_for_sizes, marker='o')\n",
    "plt.title('Computation Time for N-by-N Matrices')\n",
    "plt.xlabel('N')\n",
    "plt.ylabel('Computation Time (seconds)')\n",
    "plt.grid(True)\n",
    "\n",
    "plt.show()"
   ]
  },
  {
   "cell_type": "code",
   "execution_count": null,
   "metadata": {},
   "outputs": [],
   "source": [
    "slope, _ = np.polyfit(np.log(sizes), np.log(times_for_sizes), deg=1)\n",
    "print(f\"Slope of a log-log plot: {slope:.2f}\")"
   ]
  },
  {
   "cell_type": "markdown",
   "metadata": {},
   "source": [
    "### Проверка закона Амдала\n",
    "\n",
    "Результаты запуска скрипта проверки закона Амдала для матрицы размера $3000 \\times 3000$."
   ]
  },
  {
   "cell_type": "code",
   "execution_count": null,
   "metadata": {},
   "outputs": [],
   "source": [
    "matrix_size = 3000\n",
    "max_threads = 24\n",
    "\n",
    "threads_list = list(range(1, max_threads+1))\n",
    "times_for_threads = []\n",
    "\n",
    "for num_threads in threads_list:\n",
    "    time, _ = run_experiment(matrix_size, num_threads)\n",
    "    times_for_threads.append(time)\n",
    "    print(f'Number of threads: {num_threads}, Computation time: {time:.6f} seconds')"
   ]
  },
  {
   "cell_type": "code",
   "execution_count": null,
   "metadata": {},
   "outputs": [],
   "source": [
    "base_time = times_for_threads[0]\n",
    "speedups = [base_time / t for t in times_for_threads]\n",
    "\n",
    "def amdahl_law(N, P):\n",
    "    return 1 / ((1 - P) + P / N)\n",
    "\n",
    "params, _ = curve_fit(amdahl_law, threads_list[:11], speedups[:11], bounds=(0, 1))\n",
    "parallel_part = params[0]\n",
    "\n",
    "predicted_speedups = [amdahl_law(N, parallel_part) for N in threads_list]\n",
    "\n",
    "display(Markdown(pd.DataFrame({\n",
    "    'Number of Threads': threads_list,\n",
    "    'Measured Speedup': speedups,\n",
    "    f\"Amdahl's law (P={parallel_part:.4f})\": predicted_speedups\n",
    "}).round(2).to_markdown(index=False)))"
   ]
  },
  {
   "cell_type": "code",
   "execution_count": null,
   "metadata": {},
   "outputs": [],
   "source": [
    "plt.figure(figsize=(10,6))\n",
    "plt.plot(threads_list, speedups, marker='o', label='Measured Speedup')\n",
    "plt.plot(threads_list, predicted_speedups, marker='x', linestyle='--', label=f\"Amdahl's law (P={parallel_part:.4f})\")\n",
    "plt.title('Speedup vs Number of Threads')\n",
    "plt.xlabel('Number of Threads')\n",
    "plt.ylabel('Speedup')\n",
    "plt.legend()\n",
    "plt.grid(True)\n",
    "plt.show()"
   ]
  },
  {
   "cell_type": "markdown",
   "metadata": {},
   "source": [
    "## Выводы\n",
    "\n",
    "Эмпирическим путём установлено, что:\n",
    "\n",
    "- параллельная реализация работает корректно на рассмотренном примере;\n",
    "- время работы параллельной растёт примерно пропорционально $N^{3.02}$;\n",
    "- закон Амдала выполняется для $P=0.99$, когда число потоков меньше 12.\n",
    "\n",
    "Объяснение расхождений с теорией:\n",
    "\n",
    "- расхождение с теоретической оценкой сложности $\\mathcal{O}(n^3)$ объясняется конечностью размера кэшей-процессора: с ростом размера матрицы всё меньшая часть матрицы помещается в кэши, что приводит к замедлению реализации;\n",
    "- невыполнение закона Амдала при использовании более чем 12 потоков объяснятся тем, что используемый процессор имеет 12 логических потоков;\n",
    "- небольшое отклонение от закона Амдала при 12 потоках объясняется тем, что часть процессорного времени тратится на выполнение фоновых задач."
   ]
  },
  {
   "cell_type": "code",
   "execution_count": null,
   "metadata": {},
   "outputs": [],
   "source": [
    "# Save report, requires pandoc and no special characters in notebook outputs\n",
    "\n",
    "!jupyter nbconvert --to markdown --no-input experiment.ipynb\n",
    "!pandoc experiment.md -o experiment.pdf --pdf-engine=xelatex \\\n",
    "  -V mainfont=\"CMU Serif\" \\\n",
    "  -V monofont=\"DejaVu Sans Mono\" \\\n",
    "  -V colorlinks=true \\\n",
    "  -V linkcolor=blue \\\n",
    "  -V fontsize=14pt \\\n",
    "  -V documentclass=extarticle \\\n",
    "  -V geometry:margin=1in \\\n",
    "  -V lang=ru-ru \\\n",
    "  -fmarkdown-implicit_figures"
   ]
  }
 ],
 "metadata": {
  "kernelspec": {
   "display_name": "Python 3 (ipykernel)",
   "language": "python",
   "name": "python3"
  },
  "language_info": {
   "codemirror_mode": {
    "name": "ipython",
    "version": 3
   },
   "file_extension": ".py",
   "mimetype": "text/x-python",
   "name": "python",
   "nbconvert_exporter": "python",
   "pygments_lexer": "ipython3",
   "version": "3.9.7"
  }
 },
 "nbformat": 4,
 "nbformat_minor": 4
}
